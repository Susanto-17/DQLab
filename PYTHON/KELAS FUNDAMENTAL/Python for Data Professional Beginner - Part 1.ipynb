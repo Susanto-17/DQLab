{
 "cells": [
  {
   "cell_type": "markdown",
   "id": "79335b5b",
   "metadata": {},
   "source": [
    "# Python for Data Professional Beginner - Part 1"
   ]
  },
  {
   "cell_type": "markdown",
   "id": "fc6bbdff",
   "metadata": {},
   "source": [
    "## BAB 1. Struktur Program Python"
   ]
  },
  {
   "cell_type": "code",
   "execution_count": 49,
   "id": "468df002",
   "metadata": {},
   "outputs": [
    {
     "name": "stdout",
     "output_type": "stream",
     "text": [
      "Belajar Python Menyenangkan\n",
      "Halo Dunia\n",
      "Hello World!\n",
      "15\n"
     ]
    }
   ],
   "source": [
    "# Statement\n",
    "print(\"Belajar Python Menyenangkan\") \n",
    "print(\"Halo Dunia\")\n",
    "print(\"Hello World!\")\n",
    "\n",
    "# Variables & Literals\n",
    "bilangan1 = 5\n",
    "bilangan2 = 10\n",
    "kalimat1 = \"Belajar Bahasa Python\"\n",
    "\n",
    "# Operators\n",
    "print(bilangan1 + bilangan2)"
   ]
  },
  {
   "cell_type": "code",
   "execution_count": 50,
   "id": "888aa006",
   "metadata": {},
   "outputs": [
    {
     "name": "stdout",
     "output_type": "stream",
     "text": [
      "10\n"
     ]
    }
   ],
   "source": [
    "bilangan1 = 20\n",
    "bilangan2 = 10\n",
    "print(bilangan1 - bilangan2)"
   ]
  },
  {
   "cell_type": "code",
   "execution_count": 51,
   "id": "9e26da7c",
   "metadata": {},
   "outputs": [
    {
     "name": "stdout",
     "output_type": "stream",
     "text": [
      "19800.0\n"
     ]
    }
   ],
   "source": [
    "harga_asli = 20000\n",
    "potongan = 2000\n",
    "harga_setelah_potongan = harga_asli - potongan\n",
    "harga_final = harga_setelah_potongan * 1.1\n",
    "print(harga_final)"
   ]
  },
  {
   "cell_type": "markdown",
   "id": "918bdb2c",
   "metadata": {},
   "source": [
    "## BAB 2. Python Variables and Types"
   ]
  },
  {
   "cell_type": "markdown",
   "id": "5806a26d",
   "metadata": {},
   "source": [
    "### Sequence"
   ]
  },
  {
   "cell_type": "code",
   "execution_count": null,
   "id": "3b1d9ede",
   "metadata": {},
   "outputs": [],
   "source": [
    "# List Bersifat Mutable\n",
    "contoh_list = [1,'dua',3,4.0,5]\n",
    "print(contoh_list[0])\n",
    "print(contoh_list[3])\n",
    "contoh_list = [1,'dua',3,4.0,5]\n",
    "contoh_list[3] = 'empat'\n",
    "print(contoh_list[3])"
   ]
  },
  {
   "cell_type": "code",
   "execution_count": null,
   "id": "a4d7f82c",
   "metadata": {},
   "outputs": [],
   "source": [
    "# Tuple bersifat immutable\n",
    "contoh_tuple = ('Januari', 'Februari', 'Maret', 'April')\n",
    "print(contoh_tuple[0])\n",
    "contoh_tuple = ('Januari', 'Februari', 'Maret', 'April')\n",
    "contoh_tuple[0] = \"Desember\""
   ]
  },
  {
   "cell_type": "code",
   "execution_count": null,
   "id": "6d45ca34",
   "metadata": {},
   "outputs": [],
   "source": [
    "# Set dan Frozen set bersifat unik dan tidak memperhatikan urutan\n",
    "contoh_list = ['Dewi', 'Budi', 'Cici', 'Linda', 'Cici'] \n",
    "print(contoh_list)\n",
    "contoh_set = {'Dewi', 'Budi', 'Cici', 'Linda', 'Cici'}\n",
    "print(contoh_set)\n",
    "contoh_frozen_set = ({'Dewi', 'Budi', 'Cici', 'Linda', 'Cici'})\n",
    "print(contoh_frozen_set)"
   ]
  },
  {
   "cell_type": "code",
   "execution_count": null,
   "id": "69a1aacc",
   "metadata": {},
   "outputs": [],
   "source": [
    "# mapping atau dictionary memetakan sebuah nilai ke nilai lainnya\n",
    "person = {'nama': 'John Doe', 'pekerjaan': 'Programmer'}\n",
    "print(person['nama'])\n",
    "print(person['pekerjaan'])"
   ]
  },
  {
   "cell_type": "code",
   "execution_count": null,
   "id": "81a8da0f",
   "metadata": {},
   "outputs": [],
   "source": [
    "sepatu = {\"nama\": \"Sepatu Niko\", \"Harga\": 150000, \"diskon\": 30000 }\n",
    "baju = {\"nama\": \"Baju Unikloh\", \"Harga\": 80000, \"diskon\": 8000}\n",
    "celana = {\"nama\": \"Celana Lepis\", \"Harga\": 200000, \"diskon\":60000}"
   ]
  },
  {
   "cell_type": "code",
   "execution_count": null,
   "id": "932d921f",
   "metadata": {},
   "outputs": [],
   "source": [
    "sepatu = {\"nama\": \"Sepatu Niko\", \"harga\": 150000, \"diskon\": 30000} \n",
    "baju = {\"nama\": \"Baju Unikloh\", \"harga\": 80000, \"diskon\": 8000} \n",
    "celana = {\"nama\": \"Celana Lepis\", \"harga\": 200000, \"diskon\": 60000} \n",
    "daftar_belanja = [sepatu, baju, celana]"
   ]
  },
  {
   "cell_type": "code",
   "execution_count": null,
   "id": "06a81fab",
   "metadata": {},
   "outputs": [],
   "source": [
    "# Data yang dinyatakan ke dalam dictionary\n",
    "sepatu = {\"nama\": \"Sepatu Niko\", \"harga\": 150000, \"diskon\": 30000} \n",
    "baju = {\"nama\": \"Baju Unikloh\", \"harga\": 80000, \"diskon\": 8000} \n",
    "celana = {\"nama\": \"Celana Lepis\", \"harga\": 200000, \"diskon\": 60000}\n",
    "# Hitunglah harga masing-masing data setelah dikurangi diskon\n",
    "harga_sepatu = sepatu[\"harga\"] - sepatu[\"diskon\"] \n",
    "harga_baju = baju[\"harga\"] - baju[\"diskon\"]\n",
    "harga_celana = celana[\"harga\"] - celana[\"diskon\"]\n",
    "# Hitung harga total\n",
    "total_harga = harga_sepatu + harga_baju + harga_celana\n",
    "# Hitung harga kena pajak\n",
    "total_pajak = total_harga * 0.1\n",
    "# Cetak total_harga + total_pajak\n",
    "print(total_harga + total_pajak)"
   ]
  },
  {
   "cell_type": "markdown",
   "id": "1671b676",
   "metadata": {},
   "source": [
    "## BAB 3. Python Operators"
   ]
  },
  {
   "cell_type": "markdown",
   "id": "de4381bb",
   "metadata": {},
   "source": [
    "Di dalam Python, operator terbagi ke dalam 6 kelompok:\n",
    "\n",
    "  1. Arithmetic operators\n",
    "  2. Assignment operators\n",
    "  3. Comparison operators\n",
    "  4. Logical operators\n",
    "  5. Identity operators\n",
    "  6. Membership operators\n"
   ]
  },
  {
   "cell_type": "code",
   "execution_count": null,
   "id": "ee77e16f",
   "metadata": {},
   "outputs": [],
   "source": [
    "# 1. Arithmetic operators\n",
    "print(3 + 2) # Penambahan\n",
    "print(4 - 2) # Pengurangan\n",
    "print(3 * 2) # Perkalian\n",
    "print(3 / 2) # Pembagian\n",
    "print(3 % 2) # Modulo\n",
    "print(3 ** 2) # Pangkat\n",
    "print(3 // 2) # Pembagian dengan  pembulatan ke bawah"
   ]
  },
  {
   "cell_type": "code",
   "execution_count": null,
   "id": "417b6b56",
   "metadata": {},
   "outputs": [],
   "source": [
    "# 2. Assignment operators\n",
    "x = 3\n",
    "x += 2  # Penambahan\n",
    "print(x)\n",
    "\n",
    "x -= 2  # Pengurangan\n",
    "print(x)\n",
    "\n",
    "x *= 2  # Perkalian\n",
    "print(x)\n",
    "\n",
    "x /= 2  # Pembagian\n",
    "print(x)\n",
    "\n",
    "x %= 2  # Modulo\n",
    "print(x)\n",
    "\n",
    "x **= 2 # Pangkat\n",
    "print(x)\n",
    "\n",
    "x //= 2 # Pembagian dengan  pembulatan ke bawah\n",
    "print(x)"
   ]
  },
  {
   "cell_type": "code",
   "execution_count": null,
   "id": "e17b0e44",
   "metadata": {},
   "outputs": [],
   "source": [
    "# 3. Comparison operators\n",
    "\n",
    "print(33 == 33) # Persamaan\n",
    "print(34 == 33)\n",
    "\n",
    "print(34 != 33) # Pertidaksamaan\n",
    "print(33 != 33)\n",
    "\n",
    "print(34 > 33) # Lebih besar dari\n",
    "print(33 > 34)\n",
    "\n",
    "print(33 < 34) # Lebih Kecil dari\n",
    "print(34 < 33)\n",
    "\n",
    "print(34 >= 33) # Lebih besar atau sama dengan\n",
    "print(33 >= 34)\n",
    "\n",
    "print(33 <= 34) # Lebih kecil atau sama dengan\n",
    "print(34 <= 33)"
   ]
  },
  {
   "cell_type": "code",
   "execution_count": null,
   "id": "cd94fa6a",
   "metadata": {},
   "outputs": [],
   "source": [
    "# 4. Logical Operators\n",
    "x = 5\n",
    "\n",
    "print(x >= 1 and x <= 10) # and\n",
    "print(x >= 1 and x <= 4)\n",
    "\n",
    "print(x >= 1 or x <= 2) # or\n",
    "print(x >= 5 or x <= 0)\n",
    "\n",
    "print(not(x == 7)) # not\n",
    "print(not(x >= 10))"
   ]
  },
  {
   "cell_type": "code",
   "execution_count": null,
   "id": "7c522d9e",
   "metadata": {},
   "outputs": [],
   "source": [
    "# 5. Identity Operators \n",
    "x = [\"Ani\", \"Budi\"]\n",
    "y = [\"Ani\", \"Budi\"]\n",
    "a = x\n",
    "\n",
    "print(a is x) # is\n",
    "print(a is y)\n",
    "\n",
    "print(a is not x) # is not\n",
    "print(a is not y)"
   ]
  },
  {
   "cell_type": "code",
   "execution_count": null,
   "id": "e0386383",
   "metadata": {},
   "outputs": [],
   "source": [
    "# 6. Membership Operators\n",
    "x = [\"Ani\", \"Budi\", \"Cici\"]\n",
    "y = \"Cici\"\n",
    "z = \"Dodi\"\n",
    "\n",
    "print(y in x) # in\n",
    "print(z in x)\n",
    "\n",
    "print(y not in x) # not in\n",
    "print(z not in x)"
   ]
  },
  {
   "cell_type": "code",
   "execution_count": null,
   "id": "de07619d",
   "metadata": {},
   "outputs": [],
   "source": [
    "# Kode awal\n",
    "total_harga = 150000\n",
    "potongan_harga = 0.3\n",
    "pajak = 0.1 # pajak dalam persen ~ 10%\n",
    "harga_bayar = 1 - 0.3 # baris pertama\n",
    "harga_bayar *= total_harga # baris kedua\n",
    "pajak_bayar = pajak * harga_bayar # baris ketiga\n",
    "harga_bayar += pajak_bayar # baris ke-4\n",
    "print(\"Kode awal - harga_bayar=\", harga_bayar)\n",
    "# Penyederhanaan baris kode dengan menerapkan prioritas operator\n",
    "total_harga = 150000\n",
    "potongan_harga = 0.3\n",
    "pajak = 0.1 # pajak dalam persen ~ 10%\n",
    "harga_bayar = (1 - 0.3) * total_harga #baris pertama \n",
    "harga_bayar += harga_bayar * pajak # baris kedua\n",
    "print(\"Penyederhanaan kode - harga_bayar=\", harga_bayar)"
   ]
  },
  {
   "cell_type": "code",
   "execution_count": null,
   "id": "31195ca8",
   "metadata": {},
   "outputs": [],
   "source": [
    "sepatu = { \"nama\" : \"Sepatu Niko\", \"harga\": 150000, \"diskon\": 30000 }\n",
    "baju = { \"nama\" : \"Baju Unikloh\", \"harga\": 80000, \"diskon\": 8000 }\n",
    "celana = { \"nama\" : \"Celana Lepis\", \"harga\": 200000, \"diskon\": 60000 }\n",
    "harga_sepatu = sepatu[\"harga\"] - sepatu[\"diskon\"]\n",
    "harga_baju = baju[\"harga\"] - baju[\"diskon\"]\n",
    "harga_celana = celana[\"harga\"] - celana[\"diskon\"]\n",
    "total_harga = (harga_sepatu + harga_baju + harga_celana) * 1.1 \n",
    "print(total_harga)"
   ]
  },
  {
   "cell_type": "markdown",
   "id": "db72e477",
   "metadata": {},
   "source": [
    "##  BAB 4. Pythons Conditioning & Looping"
   ]
  },
  {
   "cell_type": "code",
   "execution_count": null,
   "id": "14d6e06d",
   "metadata": {},
   "outputs": [],
   "source": [
    "tagihan_ke = 'Mr. Yoyo'\n",
    "warehousing = { 'harga_harian': 1000000, 'total_hari':15 } \n",
    "cleansing = { 'harga_harian': 1500000, 'total_hari':10 } \n",
    "integration = { 'harga_harian':2000000, 'total_hari':15 } \n",
    "transform = { 'harga_harian':2500000, 'total_hari':10 }\n",
    "sub_warehousing = warehousing['harga_harian'] * warehousing['total_hari'] \n",
    "sub_cleansing = cleansing['harga_harian'] * cleansing['total_hari'] \n",
    "sub_integration = integration['harga_harian'] * integration['total_hari'] \n",
    "sub_transform = transform['harga_harian'] * transform['total_hari']\n",
    "total_harga = sub_warehousing + sub_cleansing + sub_integration + sub_transform\n",
    "print(\"Tagihan kepada:\") \n",
    "print(tagihan_ke)\n",
    "print(\"Selamat pagi, anda harus membayar tagihan sebesar:\") \n",
    "print(total_harga)"
   ]
  },
  {
   "cell_type": "code",
   "execution_count": null,
   "id": "38f223cf",
   "metadata": {},
   "outputs": [],
   "source": [
    "jam = 17\n",
    "tagihan_ke = 'Mr. Yoyo'\n",
    "warehousing = { 'harga_harian': 1000000, 'total_hari':15 } \n",
    "cleansing = { 'harga_harian': 1500000, 'total_hari':10 } \n",
    "integration = { 'harga_harian':2000000, 'total_hari':15 } \n",
    "transform = { 'harga_harian':2500000, 'total_hari':10 }\n",
    "sub_warehousing = warehousing['harga_harian']*warehousing['total_hari'] \n",
    "sub_cleansing = cleansing['harga_harian']*cleansing['total_hari'] \n",
    "sub_integration = integration['harga_harian']*integration['total_hari'] \n",
    "sub_transform = transform['harga_harian']*transform['total_hari']\n",
    "total_harga = sub_warehousing+sub_cleansing+sub_integration+sub_transform\n",
    "print(\"Tagihan kepada:\")\n",
    "print(tagihan_ke)\n",
    "if jam > 19:\n",
    "    print(\"Selamat malam, anda harus membayar tagihan sebesar:\")\n",
    "elif jam > 17:\n",
    "    print(\"Selamat sore, anda harus membayar tagihan sebesar:\") \n",
    "elif jam > 12:\n",
    "    print(\"Selamat siang, anda harus membayar tagihan sebesar:\")\n",
    "else:\n",
    "    print(\"Selamat pagi, anda harus membayar tagihan sebesar:\") \n",
    "print(total_harga)"
   ]
  },
  {
   "cell_type": "code",
   "execution_count": null,
   "id": "3852a151",
   "metadata": {},
   "outputs": [],
   "source": [
    "list_cash_flow = [\n",
    "2500000, 5000000, -1000000, -2500000, 5000000, 10000000,\n",
    "-5000000, 7500000, 10000000, -1500000, 25000000, -2500000\n",
    "]\n",
    "total_pengeluaran, total_pemasukan = 0, 0\n",
    "for dana in list_cash_flow:\n",
    "    if dana > 0:\n",
    "        total_pemasukan += dana\n",
    "    else:\n",
    "        total_pengeluaran += dana\n",
    "total_pengeluaran *= -1\n",
    "print(total_pengeluaran) \n",
    "print(total_pemasukan)"
   ]
  },
  {
   "cell_type": "markdown",
   "id": "b7a16893",
   "metadata": {},
   "source": [
    "## BAB 5. Mini Quiz"
   ]
  },
  {
   "cell_type": "markdown",
   "id": "c79a2543",
   "metadata": {},
   "source": [
    "### Ekspedisi Pamanku \n",
    "\n",
    "Aku menyambar ponsel di meja dan membuka pesan singkat dari paman tempo hari yang menjelaskan jika paman harus mengeluarkan uang sebesar 1,5 juta per mobil dalam sehari. Tapi, beliau selalu kebingungan dengan total pengeluaran per bulan karena adanya aturan ganjil-genap yang membuat pengoperasian mobil yang berbeda.\n",
    "\n",
    "“Kalau begitu, aku akan masukkan variabel jumlah_hari berisi jumlah hari dalam sebulan dan variabel list_plat_nomor berisi seluruh nomor plat mobil milik paman,” gumamku sendiri. Kalau seperti ini paman hanya perlu mengganti variabel jumlah_hari atau modifikasi variabel list_plat_nomor untuk melacak total pengeluaran paman selama sebulan. Ide Cemerlang!"
   ]
  },
  {
   "cell_type": "code",
   "execution_count": null,
   "id": "3c7be974",
   "metadata": {},
   "outputs": [],
   "source": [
    "# Data\n",
    "uang_jalan = 1500000\n",
    "jumlah_hari = 31\n",
    "list_plat_nomor = [8993, 2198, 2501, 2735, 3772, 4837, 9152]\n",
    "# Pengecekan kendaraan dengan nomor pelat ganjil atau genap \n",
    "# Deklarasikan kendaraan_genap dan kendaraan_ganjil = 0\n",
    "kendaraan_genap = 0 \n",
    "kendaraan_ganjil = 0\n",
    "for plat_nomor in list_plat_nomor:\n",
    "    if plat_nomor % 2 == 0:\n",
    "        kendaraan_genap += 1 \n",
    "    else:\n",
    "        kendaraan_ganjil += 1\n",
    "# Total pengeluaran untuk kendaraan dengan nomor pelat ganjil \n",
    "# dan genap dalam 1 bulan\n",
    "i = 1\n",
    "total_pengeluaran = 0\n",
    "while i <= jumlah_hari:\n",
    "    if i % 2 == 0:\n",
    "        total_pengeluaran += (kendaraan_genap * uang_jalan)\n",
    "    else:\n",
    "        total_pengeluaran += (kendaraan_ganjil * uang_jalan) \n",
    "    i += 1\n",
    "# Cetak total pengeluaran\n",
    "print(total_pengeluaran)"
   ]
  },
  {
   "cell_type": "markdown",
   "id": "f493fe5e",
   "metadata": {},
   "source": [
    "## Hasil Belajarku"
   ]
  },
  {
   "cell_type": "markdown",
   "id": "fd049dda",
   "metadata": {},
   "source": [
    "Dari materi yang telah aku pelajari dan praktekkan, aku telah mempelajari:\n",
    "\n",
    "    Alasan Python secara luas digunakan dalam komputasi saintifik, web, ranah data (data domain).\n",
    "    Konstruksi dari struktur bahasa pemrograman Python.\n",
    "    Teknik mempraktekkan penggunaan tipe data pada Python.\n",
    "    Teknik mempraktekkan penggunaan jenis-jenis operator pada Python.\n",
    "    Teknik mempraktekkan penggunaan pengkondisian untuk pengambilan keputusan dan perulangan pada Python.\n",
    "    Program Python untuk penyelesaian kasus bisnis sederhana.\n"
   ]
  }
 ],
 "metadata": {
  "kernelspec": {
   "display_name": "Python 3",
   "language": "python",
   "name": "python3"
  },
  "language_info": {
   "codemirror_mode": {
    "name": "ipython",
    "version": 3
   },
   "file_extension": ".py",
   "mimetype": "text/x-python",
   "name": "python",
   "nbconvert_exporter": "python",
   "pygments_lexer": "ipython3",
   "version": "3.8.8"
  }
 },
 "nbformat": 4,
 "nbformat_minor": 5
}
